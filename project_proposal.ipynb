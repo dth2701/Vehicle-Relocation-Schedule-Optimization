{
 "cells": [
  {
   "cell_type": "markdown",
   "metadata": {},
   "source": [
    "### CS/ECE/ISyE 524 &mdash; Introduction to Optimization &mdash; Spring 2023 ###\n",
    "\n",
    "# Vehicle Relocation Schedule Optimization in Network#\n",
    "\n",
    "#### Huong Do (tdo7@wisc.edu)\n",
    "#### Haitian Du (hdu47@wisc.edu) \n",
    "#### Jiaxin Tian (jtian85@wisc.edu)\n",
    "\n"
   ]
  },
  {
   "cell_type": "markdown",
   "metadata": {},
   "source": [
    "#### Please insert your answers in the cells below. Use only Markdown notation, not Julia code"
   ]
  },
  {
   "cell_type": "markdown",
   "metadata": {},
   "source": [
    "### (A) Issue being addressed in this project"
   ]
  },
  {
   "cell_type": "markdown",
   "metadata": {},
   "source": [
    "**The issue we are addressing is the car relocation schedule for several locations of a car rental company. We aim to find the schedule that optimizes their business performance.**\n",
    "\n",
    "**The problem is a vehicle sharing problem. There are 5 stations in this city {A, B, C, D, E}, with each station has some vehicles available. The demand in each station is randomly distributed, but we simplified the demand to some constants in this optimization problem. The example demand for each station is shown in the time schedule. Initially, each station has 30 vehicles at 0:00, which means there are 150 vehicles in total. From 0:00 to 23:00, the company can relocate any number of vehicles from one station to another in order to better satisfy customer demand. The relocation cost is based on the distance between stations. In the Figure 1 below for example, the relocation cost from A to B would be higher than A to E due to the longer distance. The distance would also make the travel time and return time different for each customer, which would influence the station inventory. Every time we successfully serve a customer, the company would gain profits based on their distance. If a customer arrives but there is no vehicle available, a backorder incurs with a penalty cost of 150 . The objective of this optimization problem is to satisfy the maximum number of customers and maximize the total profits.** \n",
    "\n",
    "**To better visualize the network flow in this problem, we use a simple network chart to interpret the relationship and the distance between each station in Figure 1. In this problem, we consider station E as a center station. If there is one single line between two stations, for example A to E, the distance is 1. If the travel crosses one city, for example A to D, the distance will be 2. The revenue for one distance is 50, and the relocation cost for one distance is 30.**\n"
   ]
  },
  {
   "cell_type": "markdown",
   "metadata": {},
   "source": [
    "![jupyter](./ex.png)\n",
    "*Figure 1. Example network between each station*"
   ]
  },
  {
   "cell_type": "markdown",
   "metadata": {},
   "source": [
    "**In reality, the actual situations could be more complicated, so we make two assumptions. The first one is that certain routes will be closed because of traffic control. To better satisfy the customers’ demand, we would relocate more vehicles before that control happens. The second assumption is that there are third-party companies nearby supporting our company when backorders happen. We can rent more vehicles from the third-party company at some cost when the car inventory of our locations is in shortage. As a result, the rental strategy from a third-party company would also be a variable in the optimization problem.** "
   ]
  },
  {
   "cell_type": "markdown",
   "metadata": {},
   "source": [
    "### (B) What kind of data will you need, where will it come from, and how will you obtain it?"
   ]
  },
  {
   "cell_type": "markdown",
   "metadata": {},
   "source": [
    "**There are 3 data that we need to work on:**\n",
    "* **The csv contains the different car demands of 5 stations in each hour (0:00-23:00).**  \n",
    "We will collect the data from public sources such as websites of rental-car service to estimate the number of vehicles available or in use at each hour.\n",
    "* **The csv contains the different station destinations of each customer.**  \n",
    "  We will make assumptions about the customer car-returning location, which determines the destinations of different customers.\n",
    "* **The distance between each compatible station pair (For example, station_A has outgoing edges to station_B and does not have outgoing edges to station_C.)**  \n",
    "  We will collect the data ourselves by using the data from google maps to assume all of the distances between each station\n"
   ]
  },
  {
   "cell_type": "markdown",
   "metadata": {},
   "source": [
    "### (C) What is the optimization problem underlying this project? (LP, QP, SOCP, MIP, NLP, other?)"
   ]
  },
  {
   "cell_type": "markdown",
   "metadata": {},
   "source": [
    "**Our problem is a linear programming problem.**\n",
    "\n",
    "**The variables considered are the relocation numbers at each station at each time point, and the daily car rented from the third -party company.**\n",
    "\n",
    "$\\max_{x_i, y} ~~ {R N_{served}}-{C_{relocation} X} - {C_{rent} y} - {P N_{unserved}}  $\n",
    "\n",
    "**Our objective is to find the relocation schedule that maximizes the profits and meets customer demand as much as we can. There will be different demand during each hour for each location, and the total number of cars available would be limited. The traveling distance and cost also vary for each location.**\n"
   ]
  },
  {
   "cell_type": "markdown",
   "metadata": {},
   "source": [
    "### (D) What will you deliver in terms of code, results, outcomes?"
   ]
  },
  {
   "cell_type": "markdown",
   "metadata": {},
   "source": [
    "**The code we will deliver should include the function finding the optimal relocation schedule. For example, if the input is demand data, the output should be the optimal schedule. The code should also include the mathematical functions with examples that better illustrate how the model works.**\n",
    "\n",
    "**Some case studies will also be included, such as some factoring including the third-party location, which road is going to be closed, and sensitivity analysis. The outcomes for each case should also be a relocation schedule that helps the company to make a better decision.** \n"
   ]
  },
  {
   "cell_type": "markdown",
   "metadata": {},
   "source": [
    "### (E) Other points to be considered."
   ]
  },
  {
   "cell_type": "markdown",
   "metadata": {},
   "source": [
    "**We need to assume all the customers from the same starting point at the same time will return cars to the same destination. Otherwise the data structure would be way too complex.**\n",
    "\n",
    "**The certain route will be closed during certain hours, so that both customers and company relocation need to take a detour.**\n",
    "\n",
    "**The difficulty of coding, and whether the dimension of data is approachable.**\n"
   ]
  },
  {
   "cell_type": "code",
   "execution_count": null,
   "metadata": {},
   "outputs": [],
   "source": []
  }
 ],
 "metadata": {
  "kernelspec": {
   "display_name": "Julia 1.8.5",
   "language": "julia",
   "name": "julia-1.8"
  },
  "language_info": {
   "file_extension": ".jl",
   "mimetype": "application/julia",
   "name": "julia",
   "version": "1.8.5"
  }
 },
 "nbformat": 4,
 "nbformat_minor": 1
}
